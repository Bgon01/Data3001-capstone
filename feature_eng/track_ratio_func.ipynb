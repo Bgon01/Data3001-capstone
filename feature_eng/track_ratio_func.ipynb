{
 "cells": [
  {
   "cell_type": "code",
   "execution_count": 1,
   "metadata": {},
   "outputs": [],
   "source": [
    "%run \"..\\data_cleaning\\data_preprocessing.ipynb\"\n",
    "from ast import literal_eval"
   ]
  },
  {
   "cell_type": "code",
   "execution_count": 24,
   "metadata": {},
   "outputs": [],
   "source": [
    "def on_track():\n",
    "    df = pd.read_csv(\"../../track_ratio.csv\",index_col=0) # REWRITE THIS TO IMPORT FROM S3 BUCKET\n",
    "    df['left_closest'] = df['left_closest'].apply(literal_eval)\n",
    "    df['right_closest'] = df['right_closest'].apply(literal_eval)\n",
    "    on_track_df = df[df[\"track_ratio_left\"]+df[\"track_ratio_right\"]<1.1]\n",
    "    return on_track_df"
   ]
  }
 ],
 "metadata": {
  "kernelspec": {
   "display_name": "Python 3",
   "language": "python",
   "name": "python3"
  },
  "language_info": {
   "codemirror_mode": {
    "name": "ipython",
    "version": 3
   },
   "file_extension": ".py",
   "mimetype": "text/x-python",
   "name": "python",
   "nbconvert_exporter": "python",
   "pygments_lexer": "ipython3",
   "version": "3.10.4"
  }
 },
 "nbformat": 4,
 "nbformat_minor": 2
}
