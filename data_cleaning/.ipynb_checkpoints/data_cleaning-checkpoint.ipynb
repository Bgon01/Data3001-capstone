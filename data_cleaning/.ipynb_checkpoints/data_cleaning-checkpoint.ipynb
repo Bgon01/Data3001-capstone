{
 "cells": [
  {
   "cell_type": "code",
   "execution_count": 30,
   "metadata": {},
   "outputs": [],
   "source": [
    "import pandas as pd\n",
    "import numpy as np\n",
    "import matplotlib.pyplot as plt\n",
    "from functools import lru_cache"
   ]
  },
  {
   "cell_type": "code",
   "execution_count": 31,
   "metadata": {},
   "outputs": [],
   "source": [
    "@lru_cache(maxsize=None)  \n",
    "def fetch_data_from_source(parquet_file):\n",
    "    df = pd.read_parquet(f\"https://data3001-racing.s3.ap-southeast-2.amazonaws.com/{parquet_file}\")\n",
    "    return df\n",
    "\n",
    "def fetch_data_csv(parquet_file):\n",
    "    df = pd.read_csv(f\"https://data3001-racing.s3.ap-southeast-2.amazonaws.com/{parquet_file}\")\n",
    "    return df"
   ]
  },
  {
   "cell_type": "code",
   "execution_count": 32,
   "metadata": {},
   "outputs": [
    {
     "name": "stdout",
     "output_type": "stream",
     "text": [
      "True\n"
     ]
    }
   ],
   "source": [
    "# testing validity of our primary key\n",
    "\n",
    "df22 = fetch_data_from_source('f1sim-data-2022.parquet')\n",
    "df23 = fetch_data_from_source('f1sim-data-2023.parquet')\n",
    "df = pd.concat([df22, df23], ignore_index=True)\n",
    "si22 = len(df22[\"SESSION_IDENTIFIER\"].unique())\n",
    "si23 = len(df23[\"SESSION_IDENTIFIER\"].unique())\n",
    "si_final = len(df[\"SESSION_IDENTIFIER\"].unique())\n",
    "print(si22 + si23 == si_final)\n",
    "\n",
    "# since the statement is true, there are no overlapping \"SESSION_IDENTIFIER\" values across two dfs"
   ]
  },
  {
   "cell_type": "code",
   "execution_count": 45,
   "metadata": {},
   "outputs": [],
   "source": [
    "# Inputs: N/A\n",
    "# Outputs: df with both datasets appended to each other (sorted by \"SESSION_IDENTIFIER\" then \"FRAME\")\n",
    "\n",
    "def fetch_and_merge():\n",
    "    df22 = fetch_data_from_source('f1sim-data-2022.parquet')\n",
    "    df23 = fetch_data_from_source('f1sim-data-2023.parquet')\n",
    "    df = pd.concat([df22, df23], ignore_index=True)\n",
    "    df.sort_values(by=[\"SESSION_IDENTIFIER\", \"FRAME\"], inplace=True)\n",
    "    df.reset_index(drop=True, inplace=True)\n",
    "    assert(len(df22)+len(df23)==len(df))\n",
    "    return df"
   ]
  },
  {
   "cell_type": "code",
   "execution_count": 34,
   "metadata": {},
   "outputs": [],
   "source": [
    "# Inputs: Sector {1,2,3}\n",
    "# Outputs: df of records with data from that sector\n",
    "\n",
    "def split_sector(s):\n",
    "    df = fetch_and_merge()\n",
    "    df = df[df[\"SECTOR\"]==s]\n",
    "    return df"
   ]
  },
  {
   "cell_type": "code",
   "execution_count": 35,
   "metadata": {},
   "outputs": [],
   "source": [
    "# Inputs: df, time\n",
    "# Outputs: df with records where lap time is under time given\n",
    "def lap_under(df, t):\n",
    "    df = df[df[\"LAP_TIME_MS\"]<t]\n",
    "    return df"
   ]
  },
  {
   "cell_type": "code",
   "execution_count": 41,
   "metadata": {},
   "outputs": [],
   "source": [
    "# Inputs: df, sector {1,2,3}, time (in ms)\n",
    "# Outputs: df where the time set in the sector is less than the time given\n",
    "\n",
    "def sector_under(df, s, t):\n",
    "    if s==1:\n",
    "        str = 'SECTOR_1_TIME_MS'\n",
    "    elif s==2:\n",
    "        str = 'SECTOR_2_TIME_MS'\n",
    "    elif s==3:\n",
    "        str = 'SECTOR_3_MS'\n",
    "\n",
    "    df = df[df[str]<t]\n",
    "    return df"
   ]
  }
 ],
 "metadata": {
  "kernelspec": {
   "display_name": "Python 3",
   "language": "python",
   "name": "python3"
  },
  "language_info": {
   "codemirror_mode": {
    "name": "ipython",
    "version": 3
   },
   "file_extension": ".py",
   "mimetype": "text/x-python",
   "name": "python",
   "nbconvert_exporter": "python",
   "pygments_lexer": "ipython3",
   "version": "3.8.8"
  }
 },
 "nbformat": 4,
 "nbformat_minor": 2
}
