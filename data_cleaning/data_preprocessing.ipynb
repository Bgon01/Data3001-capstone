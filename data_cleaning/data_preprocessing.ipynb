{
 "cells": [
  {
   "cell_type": "code",
   "execution_count": 2,
   "metadata": {},
   "outputs": [],
   "source": [
    "import pandas as pd\n",
    "import numpy as np\n",
    "import matplotlib.pyplot as plt\n",
    "from functools import lru_cache"
   ]
  },
  {
   "cell_type": "code",
   "execution_count": 3,
   "metadata": {},
   "outputs": [],
   "source": [
    "@lru_cache(maxsize=None)  \n",
    "def fetch_data_from_source(parquet_file):\n",
    "    df = pd.read_parquet(f\"https://data3001-racing.s3.ap-southeast-2.amazonaws.com/{parquet_file}\")\n",
    "    return df\n",
    "\n",
    "def fetch_data_csv(parquet_file):\n",
    "    df = pd.read_csv(f\"https://data3001-racing.s3.ap-southeast-2.amazonaws.com/{parquet_file}\")\n",
    "    return df"
   ]
  },
  {
   "cell_type": "code",
   "execution_count": 9,
   "metadata": {},
   "outputs": [],
   "source": [
    "# Inputs: N/A\n",
    "# Outputs: df with both datasets appended to each other (sorted by \"SESSION_IDENTIFIER\" then \"FRAME\")\n",
    "# NOTE: 'SECTOR' has been changed from {0,1,2} to {1,2,3}\n",
    "\n",
    "def fetch_and_merge():\n",
    "    df22 = fetch_data_from_source('f1sim-data-2022.parquet')\n",
    "    df23 = fetch_data_from_source('f1sim-data-2023.parquet')\n",
    "    df = pd.concat([df22, df23], ignore_index=True)\n",
    "    df.dropna(inplace=True)\n",
    "    df.sort_values(by=[\"SESSION_IDENTIFIER\", \"FRAME\"], inplace=True)\n",
    "    df.reset_index(drop=True, inplace=True)\n",
    "    df[\"SECTOR\"] = df[\"SECTOR\"] + 1\n",
    "    return df"
   ]
  },
  {
   "cell_type": "code",
   "execution_count": 5,
   "metadata": {},
   "outputs": [],
   "source": [
    "# Inputs: Sector {1,2,3}\n",
    "# Outputs: df of records with data from that sector\n",
    "\n",
    "def split_sector(s):\n",
    "    df = fetch_and_merge()\n",
    "    df = df[df[\"SECTOR\"]==s]\n",
    "    return df"
   ]
  },
  {
   "cell_type": "code",
   "execution_count": 6,
   "metadata": {},
   "outputs": [],
   "source": [
    "# Inputs: df, time\n",
    "# Outputs: df with records where lap time is under time given\n",
    "def lap_under(df, t):\n",
    "    df = df[df[\"LAP_TIME_MS\"]<t]\n",
    "    return df"
   ]
  },
  {
   "cell_type": "code",
   "execution_count": null,
   "metadata": {},
   "outputs": [],
   "source": [
    "# Inputs: sector {1,2,3}, time (in ms)\n",
    "# Outputs: df where the time set in the sector is less than the time given\n",
    "\n",
    "def sector_under(s, t):\n",
    "    df = split_sector(s)\n",
    "    if s==1:\n",
    "        str = 'SECTOR_1_TIME_MS'\n",
    "    elif s==2:\n",
    "        str = 'SECTOR_2_TIME_MS'\n",
    "    elif s==3:\n",
    "        str = 'SECTOR_3_MS'\n",
    "\n",
    "    df = df[df[str]<t]\n",
    "    return df"
   ]
  },
  {
   "cell_type": "code",
   "execution_count": null,
   "metadata": {},
   "outputs": [],
   "source": [
    "# Inputs: turn\n",
    "# Output: df where all data is in the turn given\n",
    "\n",
    "def split_turns(t):\n",
    "    df = fetch_and_merge()\n",
    "    t_df = fetch_data_csv('f1sim-ref-turns.csv')\n",
    "    t = t-1\n",
    "    x1 = t_df[\"CORNER_X1\"][t]\n",
    "    x2 = t_df[\"CORNER_X2\"][t]\n",
    "    y1 = t_df[\"CORNER_Y1\"][t]\n",
    "    y2 = t_df[\"CORNER_Y2\"][t]\n",
    "    df = df[(df[\"WORLDPOSX\"] > x1) & (df[\"WORLDPOSX\"] < x2)]\n",
    "    df = df[(df[\"WORLDPOSY\"] > y1) & (df[\"WORLDPOSY\"] < y2)]\n",
    "    return df"
   ]
  }
 ],
 "metadata": {
  "kernelspec": {
   "display_name": "Python 3",
   "language": "python",
   "name": "python3"
  },
  "language_info": {
   "codemirror_mode": {
    "name": "ipython",
    "version": 3
   },
   "file_extension": ".py",
   "mimetype": "text/x-python",
   "name": "python",
   "nbconvert_exporter": "python",
   "pygments_lexer": "ipython3",
   "version": "3.11.3"
  },
  "orig_nbformat": 4
 },
 "nbformat": 4,
 "nbformat_minor": 2
}
