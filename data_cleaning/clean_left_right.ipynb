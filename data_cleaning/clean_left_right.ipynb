{
 "cells": [
  {
   "cell_type": "code",
   "execution_count": 1,
   "metadata": {},
   "outputs": [],
   "source": [
    "%run \"..\\data_cleaning\\data_preprocessing.ipynb\""
   ]
  },
  {
   "cell_type": "code",
   "execution_count": 46,
   "metadata": {},
   "outputs": [],
   "source": [
    "left_df = fetch_data_csv('f1sim-ref-left.csv')\n",
    "right_df = fetch_data_csv('f1sim-ref-right.csv')\n",
    "left_df = left_df.drop_duplicates(subset=[\"WORLDPOSX\",\"WORLDPOSY\"])\n",
    "right_df = right_df.drop_duplicates(subset=[\"WORLDPOSX\",\"WORLDPOSY\"])\n",
    "left_df.drop(184, inplace=True)\n",
    "left_df.drop(4157, inplace=True)\n",
    "right_df.drop(24, inplace=True)"
   ]
  },
  {
   "cell_type": "code",
   "execution_count": 47,
   "metadata": {},
   "outputs": [
    {
     "data": {
      "text/html": [
       "<div>\n",
       "<style scoped>\n",
       "    .dataframe tbody tr th:only-of-type {\n",
       "        vertical-align: middle;\n",
       "    }\n",
       "\n",
       "    .dataframe tbody tr th {\n",
       "        vertical-align: top;\n",
       "    }\n",
       "\n",
       "    .dataframe thead th {\n",
       "        text-align: right;\n",
       "    }\n",
       "</style>\n",
       "<table border=\"1\" class=\"dataframe\">\n",
       "  <thead>\n",
       "    <tr style=\"text-align: right;\">\n",
       "      <th></th>\n",
       "      <th>REFTYPE</th>\n",
       "      <th>SESSION_IDENTIFIER</th>\n",
       "      <th>FRAME</th>\n",
       "      <th>WORLDPOSX</th>\n",
       "      <th>WORLDPOSY</th>\n",
       "      <th>WORLDPOSZ</th>\n",
       "    </tr>\n",
       "  </thead>\n",
       "  <tbody>\n",
       "  </tbody>\n",
       "</table>\n",
       "</div>"
      ],
      "text/plain": [
       "Empty DataFrame\n",
       "Columns: [REFTYPE, SESSION_IDENTIFIER, FRAME, WORLDPOSX, WORLDPOSY, WORLDPOSZ]\n",
       "Index: []"
      ]
     },
     "execution_count": 47,
     "metadata": {},
     "output_type": "execute_result"
    }
   ],
   "source": [
    "left_df[(left_df[\"WORLDPOSX\"]<111)&(left_df[\"WORLDPOSX\"]>109)&(left_df[\"WORLDPOSY\"]<470)&(left_df[\"WORLDPOSY\"]>467.5)]"
   ]
  },
  {
   "cell_type": "code",
   "execution_count": 70,
   "metadata": {},
   "outputs": [
    {
     "data": {
      "image/png": "[encoded data removed]",
      "text/plain": [
       "<Figure size 640x480 with 1 Axes>"
      ]
     },
     "metadata": {},
     "output_type": "display_data"
    }
   ],
   "source": [
    "plt.scatter(left_df[\"WORLDPOSX\"], left_df[\"WORLDPOSY\"],s=1,c='blue')\n",
    "plt.scatter(right_df[\"WORLDPOSX\"], right_df[\"WORLDPOSY\"], s=1,c='red')\n",
    "plt.grid(True)\n",
    "plt.xlim(50, 600)\n",
    "plt.ylim(-250, 500)\n",
    "plt.show()"
   ]
  },
  {
   "cell_type": "code",
   "execution_count": 72,
   "metadata": {},
   "outputs": [
    {
     "data": {
      "text/html": [
       "<div>\n",
       "<style scoped>\n",
       "    .dataframe tbody tr th:only-of-type {\n",
       "        vertical-align: middle;\n",
       "    }\n",
       "\n",
       "    .dataframe tbody tr th {\n",
       "        vertical-align: top;\n",
       "    }\n",
       "\n",
       "    .dataframe thead th {\n",
       "        text-align: right;\n",
       "    }\n",
       "</style>\n",
       "<table border=\"1\" class=\"dataframe\">\n",
       "  <thead>\n",
       "    <tr style=\"text-align: right;\">\n",
       "      <th></th>\n",
       "      <th>REFTYPE</th>\n",
       "      <th>SESSION_IDENTIFIER</th>\n",
       "      <th>FRAME</th>\n",
       "      <th>WORLDPOSX</th>\n",
       "      <th>WORLDPOSY</th>\n",
       "      <th>WORLDPOSZ</th>\n",
       "    </tr>\n",
       "  </thead>\n",
       "  <tbody>\n",
       "    <tr>\n",
       "      <th>0</th>\n",
       "      <td>RIGHT</td>\n",
       "      <td>14023301428294605882</td>\n",
       "      <td>4227</td>\n",
       "      <td>-239.720749</td>\n",
       "      <td>225.080017</td>\n",
       "      <td>3.699864</td>\n",
       "    </tr>\n",
       "    <tr>\n",
       "      <th>1</th>\n",
       "      <td>RIGHT</td>\n",
       "      <td>14023301428294605882</td>\n",
       "      <td>4228</td>\n",
       "      <td>-240.664352</td>\n",
       "      <td>225.869324</td>\n",
       "      <td>3.695900</td>\n",
       "    </tr>\n",
       "    <tr>\n",
       "      <th>2</th>\n",
       "      <td>RIGHT</td>\n",
       "      <td>14023301428294605882</td>\n",
       "      <td>4229</td>\n",
       "      <td>-241.372360</td>\n",
       "      <td>226.461472</td>\n",
       "      <td>3.692851</td>\n",
       "    </tr>\n",
       "    <tr>\n",
       "      <th>3</th>\n",
       "      <td>RIGHT</td>\n",
       "      <td>14023301428294605882</td>\n",
       "      <td>4230</td>\n",
       "      <td>-242.081345</td>\n",
       "      <td>227.054626</td>\n",
       "      <td>3.690039</td>\n",
       "    </tr>\n",
       "    <tr>\n",
       "      <th>4</th>\n",
       "      <td>RIGHT</td>\n",
       "      <td>14023301428294605882</td>\n",
       "      <td>4231</td>\n",
       "      <td>-242.788864</td>\n",
       "      <td>227.646423</td>\n",
       "      <td>3.687490</td>\n",
       "    </tr>\n",
       "    <tr>\n",
       "      <th>...</th>\n",
       "      <td>...</td>\n",
       "      <td>...</td>\n",
       "      <td>...</td>\n",
       "      <td>...</td>\n",
       "      <td>...</td>\n",
       "      <td>...</td>\n",
       "    </tr>\n",
       "    <tr>\n",
       "      <th>5761</th>\n",
       "      <td>RIGHT</td>\n",
       "      <td>14023301428294605882</td>\n",
       "      <td>6601</td>\n",
       "      <td>80.157318</td>\n",
       "      <td>482.221100</td>\n",
       "      <td>3.221000</td>\n",
       "    </tr>\n",
       "    <tr>\n",
       "      <th>5762</th>\n",
       "      <td>RIGHT</td>\n",
       "      <td>14023301428294605882</td>\n",
       "      <td>6604</td>\n",
       "      <td>81.940964</td>\n",
       "      <td>480.457184</td>\n",
       "      <td>3.212195</td>\n",
       "    </tr>\n",
       "    <tr>\n",
       "      <th>5763</th>\n",
       "      <td>RIGHT</td>\n",
       "      <td>14023301428294605882</td>\n",
       "      <td>6619</td>\n",
       "      <td>87.858017</td>\n",
       "      <td>474.614563</td>\n",
       "      <td>3.162524</td>\n",
       "    </tr>\n",
       "    <tr>\n",
       "      <th>5764</th>\n",
       "      <td>RIGHT</td>\n",
       "      <td>14023301428294605882</td>\n",
       "      <td>6622</td>\n",
       "      <td>89.045319</td>\n",
       "      <td>473.444550</td>\n",
       "      <td>3.152795</td>\n",
       "    </tr>\n",
       "    <tr>\n",
       "      <th>5765</th>\n",
       "      <td>RIGHT</td>\n",
       "      <td>14023301428294605882</td>\n",
       "      <td>6623</td>\n",
       "      <td>89.550514</td>\n",
       "      <td>472.946899</td>\n",
       "      <td>3.148910</td>\n",
       "    </tr>\n",
       "  </tbody>\n",
       "</table>\n",
       "<p>5639 rows × 6 columns</p>\n",
       "</div>"
      ],
      "text/plain": [
       "     REFTYPE    SESSION_IDENTIFIER  FRAME   WORLDPOSX   WORLDPOSY  WORLDPOSZ\n",
       "0      RIGHT  14023301428294605882   4227 -239.720749  225.080017   3.699864\n",
       "1      RIGHT  14023301428294605882   4228 -240.664352  225.869324   3.695900\n",
       "2      RIGHT  14023301428294605882   4229 -241.372360  226.461472   3.692851\n",
       "3      RIGHT  14023301428294605882   4230 -242.081345  227.054626   3.690039\n",
       "4      RIGHT  14023301428294605882   4231 -242.788864  227.646423   3.687490\n",
       "...      ...                   ...    ...         ...         ...        ...\n",
       "5761   RIGHT  14023301428294605882   6601   80.157318  482.221100   3.221000\n",
       "5762   RIGHT  14023301428294605882   6604   81.940964  480.457184   3.212195\n",
       "5763   RIGHT  14023301428294605882   6619   87.858017  474.614563   3.162524\n",
       "5764   RIGHT  14023301428294605882   6622   89.045319  473.444550   3.152795\n",
       "5765   RIGHT  14023301428294605882   6623   89.550514  472.946899   3.148910\n",
       "\n",
       "[5639 rows x 6 columns]"
      ]
     },
     "execution_count": 72,
     "metadata": {},
     "output_type": "execute_result"
    }
   ],
   "source": [
    "right_df"
   ]
  }
 ],
 "metadata": {
  "kernelspec": {
   "display_name": "Python 3",
   "language": "python",
   "name": "python3"
  },
  "language_info": {
   "codemirror_mode": {
    "name": "ipython",
    "version": 3
   },
   "file_extension": ".py",
   "mimetype": "text/x-python",
   "name": "python",
   "nbconvert_exporter": "python",
   "pygments_lexer": "ipython3",
   "version": "3.10.4"
  }
 },
 "nbformat": 4,
 "nbformat_minor": 2
}
