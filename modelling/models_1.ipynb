{
 "cells": [
  {
   "cell_type": "code",
   "execution_count": null,
   "metadata": {},
   "outputs": [],
   "source": [
    "from functools import lru_cache\n",
    "import pandas as pd\n",
    "import matplotlib.pyplot as plt\n",
    "\n",
    "pd.set_option('display.max_columns', None)\n",
    "\n",
    "@lru_cache(maxsize=None)\n",
    "def fetch_data_from_source(file):\n",
    "    '''\n",
    "    Files:\n",
    "        f1sim-data-2022.parquet\n",
    "        f1sim-data-2023.parquet\n",
    "\n",
    "        f1sim-data-dictionary.xlsx\n",
    "\n",
    "        f1sim-ref-left.csv\n",
    "        f1sim-ref-line.csv\n",
    "        f1sim-ref-right.csv\n",
    "        f1sim-ref-turns.csv\n",
    "    '''\n",
    "    if file.split(\".\")[1] == \"parquet\":\n",
    "        df = pd.read_parquet(f\"https://data3001-racing.s3.ap-southeast-2.amazonaws.com/{file}\")\n",
    "    elif file.split(\".\")[1] == \"csv\":\n",
    "        df = pd.read_csv(f\"https://data3001-racing.s3.ap-southeast-2.amazonaws.com/{file}\")\n",
    "    elif file.split(\".\")[1] == \"xlsx\":\n",
    "        df = pd.read_excel(f\"https://data3001-racing.s3.ap-southeast-2.amazonaws.com/{file}\")\n",
    "    return df"
   ]
  },
  {
   "cell_type": "code",
   "execution_count": null,
   "metadata": {},
   "outputs": [],
   "source": [
    "left = fetch_data_from_source('f1sim-ref-left.csv')\n",
    "right = fetch_data_from_source('f1sim-ref-right.csv')\n",
    "line = fetch_data_from_source('f1sim-ref-line.csv')\n",
    "turns = fetch_data_from_source('f1sim-ref-turns.csv')"
   ]
  },
  {
   "cell_type": "code",
   "execution_count": null,
   "metadata": {},
   "outputs": [],
   "source": [
    "df = pd.read_csv(\"s3://data3001-racing/track_ratio.csv\",index_col=0)"
   ]
  }
 ],
 "metadata": {
  "kernelspec": {
   "display_name": "Python 3",
   "language": "python",
   "name": "python3"
  },
  "language_info": {
   "codemirror_mode": {
    "name": "ipython",
    "version": 3
   },
   "file_extension": ".py",
   "mimetype": "text/x-python",
   "name": "python",
   "nbconvert_exporter": "python",
   "pygments_lexer": "ipython3",
   "version": "3.10.4"
  }
 },
 "nbformat": 4,
 "nbformat_minor": 2
}
