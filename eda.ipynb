{
 "cells": [
  {
   "cell_type": "code",
   "execution_count": 2,
   "metadata": {},
   "outputs": [],
   "source": [
    "import pandas as pd\n",
    "import numpy as np\n",
    "import matplotlib.pyplot as plt\n",
    "from functools import lru_cache"
   ]
  },
  {
   "cell_type": "code",
   "execution_count": 3,
   "metadata": {},
   "outputs": [],
   "source": [
    "@lru_cache(maxsize=None)  \n",
    "def fetch_data_from_source(parquet_file):\n",
    "    df = pd.read_parquet(f\"https://data3001-racing.s3.ap-southeast-2.amazonaws.com/{parquet_file}\")\n",
    "    return df"
   ]
  },
  {
   "cell_type": "code",
   "execution_count": 4,
   "metadata": {},
   "outputs": [],
   "source": [
    "f1_2022_df = fetch_data_from_source('f1sim-data-2022.parquet')"
   ]
  },
  {
   "cell_type": "code",
   "execution_count": 5,
   "metadata": {},
   "outputs": [],
   "source": [
    "f1_2023_df = pd.read_csv(\"../data/f1sim-data-2023.csv\")"
   ]
  },
  {
   "cell_type": "code",
   "execution_count": 6,
   "metadata": {},
   "outputs": [
    {
     "data": {
      "text/plain": [
       "0        -2.312143\n",
       "1        -2.326019\n",
       "2        -2.343246\n",
       "3        -2.338133\n",
       "4         2.821733\n",
       "            ...   \n",
       "721248   -2.337521\n",
       "721249   -2.332395\n",
       "721250   -2.327104\n",
       "721251   -2.324419\n",
       "721252   -2.326027\n",
       "Name: YAW, Length: 721253, dtype: float64"
      ]
     },
     "execution_count": 6,
     "metadata": {},
     "output_type": "execute_result"
    }
   ],
   "source": [
    "f1_2022_df[\"YAW\"]"
   ]
  },
  {
   "cell_type": "code",
   "execution_count": 40,
   "metadata": {},
   "outputs": [
    {
     "name": "stdout",
     "output_type": "stream",
     "text": [
      "gear -1 was used in sector 0: 7632, sector 1: 852, sector 2: 11521\n",
      "gear 0 was used in sector 0: 1535, sector 1: 184, sector 2: 2181\n",
      "gear 1 was used in sector 0: 33613, sector 1: 4421, sector 2: 50782\n",
      "gear 2 was used in sector 0: 39503, sector 1: 6100, sector 2: 49402\n",
      "gear 3 was used in sector 0: 38392, sector 1: 10505, sector 2: 36939\n",
      "gear 4 was used in sector 0: 29240, sector 1: 16808, sector 2: 33623\n",
      "gear 5 was used in sector 0: 31145, sector 1: 21652, sector 2: 51512\n",
      "gear 6 was used in sector 0: 28056, sector 1: 21569, sector 2: 35471\n",
      "gear 7 was used in sector 0: 22821, sector 1: 27234, sector 2: 26994\n",
      "gear 8 was used in sector 0: 24223, sector 1: 38703, sector 2: 18640\n"
     ]
    }
   ],
   "source": [
    "for x in range(-1, 9):\n",
    "    s0 = f1_2022_df[f1_2022_df[\"GEAR\"]==x].groupby(\"SECTOR\").count()['FRAME'][0]\n",
    "    s1 = f1_2022_df[f1_2022_df[\"GEAR\"]==x].groupby(\"SECTOR\").count()['FRAME'][1]\n",
    "    s2 = f1_2022_df[f1_2022_df[\"GEAR\"]==x].groupby(\"SECTOR\").count()['FRAME'][2]\n",
    "    print(\"gear \" + str(x) + \" was used in sector 0: \" + str(s0) + \", sector 1: \" + str(s1) + \", sector 2: \" +str(s2))"
   ]
  }
 ],
 "metadata": {
  "kernelspec": {
   "display_name": "Python 3",
   "language": "python",
   "name": "python3"
  },
  "language_info": {
   "codemirror_mode": {
    "name": "ipython",
    "version": 3
   },
   "file_extension": ".py",
   "mimetype": "text/x-python",
   "name": "python",
   "nbconvert_exporter": "python",
   "pygments_lexer": "ipython3",
   "version": "3.11.3"
  },
  "orig_nbformat": 4
 },
 "nbformat": 4,
 "nbformat_minor": 2
}
